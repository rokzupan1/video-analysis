{
 "cells": [
  {
   "cell_type": "code",
   "execution_count": 2,
   "id": "666ad9b6-c41d-4e41-97d5-c2b4b558895c",
   "metadata": {
    "tags": []
   },
   "outputs": [
    {
     "name": "stderr",
     "output_type": "stream",
     "text": [
      "C:\\Users\\rokzu\\AppData\\Local\\Temp\\ipykernel_20440\\2241091999.py:23: FutureWarning: The frame.append method is deprecated and will be removed from pandas in a future version. Use pandas.concat instead.\n",
      "  COchannelsall = COchannelsall.append(COchannels)\n"
     ]
    }
   ],
   "source": [
    "import pandas as pd\n",
    "import matplotlib.pyplot as plt\n",
    "import os\n",
    "\n",
    "# load the data\n",
    "COvideos = pd.read_csv('USvideos.csv')\n",
    "CO_category_id = pd.read_csv('US_category_id.csv')\n",
    "\n",
    "\n",
    "# merge the data\n",
    "CO_category_id = CO_category_id.rename(columns={'items__id': 'category_id'})\n",
    "COdataset = pd.merge(CO_category_id, COvideos, on='category_id')\n",
    "COdataset1 = pd.merge(CO_category_id, COvideos, on='category_id')\n",
    "COdata = COdataset.loc[:, ['channel_title','items__snippet__title', 'category_id', 'trending_date', \n",
    "                           'views', 'likes', 'dislikes', 'comment_count', 'comments_disabled', \n",
    "                           'ratings_disabled', 'video_error_or_removed']]\n",
    "COdata = COdata.rename(columns={'items__snippet__title': 'category_name'})\n",
    "\n",
    "COchannels = COdata.groupby(['channel_title'])[['views','likes','dislikes']].sum().reset_index()\n",
    "COchannels = COchannels.sort_values('views', ascending = False)\n",
    "COchannels = COchannels.head(50).reset_index()\n",
    "COchannelsall = pd.DataFrame() # Only run one time when importing DE dataset\n",
    "COchannelsall = COchannelsall.append(COchannels)\n",
    "\n",
    "# I ran this part of the code and up 10 times to get complete list of 500 channels - 50 popular channels per country "
   ]
  },
  {
   "cell_type": "code",
   "execution_count": 3,
   "id": "06f34298-1411-42a6-9934-1b67ecac1e5a",
   "metadata": {
    "tags": []
   },
   "outputs": [],
   "source": [
    "COchannelsall1 = COchannelsall.groupby(['channel_title']).size().sort_values(ascending=False).reset_index().head(20)\n",
    "COchannelsall1 = COchannelsall1.rename(columns={0: 'Number of Countries Popular'})\n",
    "COchannelsall_test = COchannelsall1.groupby('Number of Countries Popular')['channel_title'].apply(lambda x: ', '.join(x)).reset_index()\n",
    "COchannelsall_test.to_excel('PopularChannels.xlsx', sheet_name='Sheet1', index=False)"
   ]
  }
 ],
 "metadata": {
  "kernelspec": {
   "display_name": "Python 3 (ipykernel)",
   "language": "python",
   "name": "python3"
  },
  "language_info": {
   "codemirror_mode": {
    "name": "ipython",
    "version": 3
   },
   "file_extension": ".py",
   "mimetype": "text/x-python",
   "name": "python",
   "nbconvert_exporter": "python",
   "pygments_lexer": "ipython3",
   "version": "3.10.9"
  }
 },
 "nbformat": 4,
 "nbformat_minor": 5
}
